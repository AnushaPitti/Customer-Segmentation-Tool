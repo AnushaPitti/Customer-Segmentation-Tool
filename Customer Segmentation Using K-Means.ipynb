{
 "cells": [
  {
   "cell_type": "code",
   "execution_count": 2,
   "id": "1c892d02-0e71-4386-9b02-ee369881bdbe",
   "metadata": {},
   "outputs": [],
   "source": [
    "import pandas as pd\n",
    "import numpy as np\n",
    "import matplotlib.pyplot as plt\n",
    "import seaborn as sns\n",
    "from sklearn.cluster import KMeans\n",
    "from sklearn.preprocessing import StandardScaler\n",
    "from sklearn.decomposition import PCA\n",
    "\n",
    "import warnings\n",
    "warnings.filterwarnings(\"ignore\")"
   ]
  },
  {
   "cell_type": "code",
   "execution_count": 3,
   "id": "ef97af81-a384-4092-ab0d-4c6574e4e978",
   "metadata": {},
   "outputs": [
    {
     "data": {
      "text/html": [
       "<div>\n",
       "<style scoped>\n",
       "    .dataframe tbody tr th:only-of-type {\n",
       "        vertical-align: middle;\n",
       "    }\n",
       "\n",
       "    .dataframe tbody tr th {\n",
       "        vertical-align: top;\n",
       "    }\n",
       "\n",
       "    .dataframe thead th {\n",
       "        text-align: right;\n",
       "    }\n",
       "</style>\n",
       "<table border=\"1\" class=\"dataframe\">\n",
       "  <thead>\n",
       "    <tr style=\"text-align: right;\">\n",
       "      <th></th>\n",
       "      <th>Annual Income (k$)</th>\n",
       "      <th>Spending Score</th>\n",
       "    </tr>\n",
       "    <tr>\n",
       "      <th>CustomerID</th>\n",
       "      <th></th>\n",
       "      <th></th>\n",
       "    </tr>\n",
       "  </thead>\n",
       "  <tbody>\n",
       "    <tr>\n",
       "      <th>1</th>\n",
       "      <td>15</td>\n",
       "      <td>39</td>\n",
       "    </tr>\n",
       "    <tr>\n",
       "      <th>2</th>\n",
       "      <td>16</td>\n",
       "      <td>81</td>\n",
       "    </tr>\n",
       "    <tr>\n",
       "      <th>3</th>\n",
       "      <td>17</td>\n",
       "      <td>6</td>\n",
       "    </tr>\n",
       "    <tr>\n",
       "      <th>4</th>\n",
       "      <td>18</td>\n",
       "      <td>77</td>\n",
       "    </tr>\n",
       "    <tr>\n",
       "      <th>5</th>\n",
       "      <td>19</td>\n",
       "      <td>40</td>\n",
       "    </tr>\n",
       "  </tbody>\n",
       "</table>\n",
       "</div>"
      ],
      "text/plain": [
       "            Annual Income (k$)  Spending Score\n",
       "CustomerID                                    \n",
       "1                           15              39\n",
       "2                           16              81\n",
       "3                           17               6\n",
       "4                           18              77\n",
       "5                           19              40"
      ]
     },
     "execution_count": 3,
     "metadata": {},
     "output_type": "execute_result"
    }
   ],
   "source": [
    "# Simulated customer data\n",
    "data = {\n",
    "    'CustomerID': range(1, 11),\n",
    "    'Annual Income (k$)': [15, 16, 17, 18, 19, 70, 85, 88, 90, 95],\n",
    "    'Spending Score': [39, 81, 6, 77, 40, 77, 13, 75, 60, 80]\n",
    "}\n",
    "df = pd.DataFrame(data)\n",
    "df.set_index(\"CustomerID\", inplace=True)\n",
    "df.head()\n"
   ]
  },
  {
   "cell_type": "code",
   "execution_count": 5,
   "id": "a87bda6f-90c9-49a5-990f-ff813187e029",
   "metadata": {},
   "outputs": [
    {
     "data": {
      "text/plain": [
       "array([[-1.04217016, -0.58320453],\n",
       "       [-1.01346024,  0.967086  ],\n",
       "       [-0.98475032, -1.80128995],\n",
       "       [-0.9560404 ,  0.81943928],\n",
       "       [-0.92733047, -0.54629285],\n",
       "       [ 0.53687554,  0.81943928],\n",
       "       [ 0.96752436, -1.5429082 ],\n",
       "       [ 1.05365413,  0.74561592],\n",
       "       [ 1.11107397,  0.19194073],\n",
       "       [ 1.25462358,  0.93017432]])"
      ]
     },
     "execution_count": 5,
     "metadata": {},
     "output_type": "execute_result"
    }
   ],
   "source": [
    "scaler = StandardScaler()\n",
    "scaled_data = scaler.fit_transform(df)\n",
    "scaled_data "
   ]
  },
  {
   "cell_type": "code",
   "execution_count": 6,
   "id": "7ca94481-77ff-4202-9594-3250117e21d3",
   "metadata": {},
   "outputs": [
    {
     "data": {
      "text/plain": [
       "CustomerID\n",
       "1     2\n",
       "2     0\n",
       "3     2\n",
       "4     0\n",
       "5     2\n",
       "6     1\n",
       "7     2\n",
       "8     1\n",
       "9     1\n",
       "10    1\n",
       "Name: Cluster, dtype: int32"
      ]
     },
     "execution_count": 6,
     "metadata": {},
     "output_type": "execute_result"
    }
   ],
   "source": [
    "kmeans = KMeans(n_clusters=3, random_state=42)\n",
    "df['Cluster'] = kmeans.fit_predict(scaled_data)\n",
    "df['Cluster']"
   ]
  },
  {
   "cell_type": "code",
   "execution_count": 7,
   "id": "2d6a1cf3-15c6-4a4b-963a-33dd79779307",
   "metadata": {},
   "outputs": [
    {
     "data": {
      "image/png": "[encoded data removed]",
      "text/plain": [
       "<Figure size 800x500 with 1 Axes>"
      ]
     },
     "metadata": {},
     "output_type": "display_data"
    }
   ],
   "source": [
    "# Reduce dimensions for visualization\n",
    "pca = PCA(n_components=2)\n",
    "components = pca.fit_transform(scaled_data)\n",
    "\n",
    "plt.figure(figsize=(8, 5))\n",
    "sns.scatterplot(x=components[:, 0], y=components[:, 1], hue=df['Cluster'], palette='Set1', s=100)\n",
    "plt.title('Customer Segments')\n",
    "plt.xlabel('PCA Component 1')\n",
    "plt.ylabel('PCA Component 2')\n",
    "plt.show()\n"
   ]
  },
  {
   "cell_type": "raw",
   "id": "d850aea2-c33e-408d-b7e5-90a49b22aedc",
   "metadata": {},
   "source": [
    "Summary\n",
    "The project segments customers based on features like annual income and spending score.\n",
    "\n",
    "A small sample dataset with synthetic customer data was created for testing.\n",
    "\n",
    "The data is scaled using StandardScaler to normalize the feature range.\n",
    "\n",
    "K-Means clustering algorithm is applied to group customers into 3 clusters.\n",
    "\n",
    "Each customer is assigned a cluster label indicating their segment.\n",
    "\n",
    "Principal Component Analysis (PCA) reduces data to 2D for visualization.\n",
    "\n",
    "A scatter plot shows customer clusters with distinct colors.\n",
    "\n",
    "The model helps understand customer behavior patterns like high spenders vs. low income.\n",
    "\n",
    "This clustering can assist businesses in targeted marketing or loyalty strategies.\n",
    "\n",
    "Future upgrades can include a Streamlit UI for input and interactive analysis.\n",
    "\n"
   ]
  },
  {
   "cell_type": "code",
   "execution_count": null,
   "id": "8c3d8f41-fc72-474a-a255-0cb25d55799d",
   "metadata": {},
   "outputs": [],
   "source": []
  }
 ],
 "metadata": {
  "kernelspec": {
   "display_name": "Python 3 (ipykernel)",
   "language": "python",
   "name": "python3"
  },
  "language_info": {
   "codemirror_mode": {
    "name": "ipython",
    "version": 3
   },
   "file_extension": ".py",
   "mimetype": "text/x-python",
   "name": "python",
   "nbconvert_exporter": "python",
   "pygments_lexer": "ipython3",
   "version": "3.12.7"
  }
 },
 "nbformat": 4,
 "nbformat_minor": 5
}
